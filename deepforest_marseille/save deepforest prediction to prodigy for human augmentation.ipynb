{
 "cells": [
  {
   "cell_type": "code",
   "execution_count": 16,
   "id": "divided-canyon",
   "metadata": {},
   "outputs": [],
   "source": [
    "BOXES_FILE = \"../dataset_marseille/deepforest_pred_laplaine_boxes-IGN0.2m_patch400px_overlap0.15.csv\"\n",
    "GEOTIFF_PATH = \"../dataset_marseille/satellite_raster_sample_laplaine_IGN_0.2m-resolution.tif\"\n",
    "\n",
    "\n",
    "PATCH_OUTPUT_DATASET=\"../dataset_marseille/deepforest_pred_laplaine_patches_IGN0.2m.jsonl\"\n",
    "\n",
    "TILE_WITH_BOXES_DATASET=\"../dataset_marseille/deepforest_pred_tiles_prodigy.jsonl\"\n",
    "\n",
    "PADDING=50 # pixel padding around a tree"
   ]
  },
  {
   "cell_type": "markdown",
   "id": "vocal-adolescent",
   "metadata": {},
   "source": [
    "# Saves patches of tree\n",
    "\n",
    "load the csv file and return crops with trees and bounding box coords\n",
    "\n",
    "the goal is to export to prodi.gy to make a quick UI "
   ]
  },
  {
   "cell_type": "code",
   "execution_count": 3,
   "id": "killing-rwanda",
   "metadata": {},
   "outputs": [],
   "source": [
    "import pandas as pd\n",
    "import numpy as np\n",
    "from PIL import Image\n",
    "\n",
    "from deepforest import preprocess\n",
    "\n",
    "from matplotlib import pyplot as plt\n",
    "%matplotlib inline\n",
    "\n",
    "import json"
   ]
  },
  {
   "cell_type": "code",
   "execution_count": 4,
   "id": "surrounded-genetics",
   "metadata": {},
   "outputs": [
    {
     "name": "stderr",
     "output_type": "stream",
     "text": [
      "Using TensorFlow backend.\n"
     ]
    }
   ],
   "source": [
    "%load_ext autoreload\n",
    "%autoreload 1\n",
    "%aimport functions"
   ]
  },
  {
   "cell_type": "code",
   "execution_count": 5,
   "id": "aerial-basis",
   "metadata": {},
   "outputs": [],
   "source": [
    "boxes = pd.read_csv(BOXES_FILE)"
   ]
  },
  {
   "cell_type": "code",
   "execution_count": 6,
   "id": "australian-elite",
   "metadata": {},
   "outputs": [
    {
     "data": {
      "text/plain": [
       "(3157, 5182, 4)"
      ]
     },
     "execution_count": 6,
     "metadata": {},
     "output_type": "execute_result"
    }
   ],
   "source": [
    "raster_path = GEOTIFF_PATH\n",
    "raster = Image.open(raster_path)\n",
    "numpy_image = np.array(raster)\n",
    "numpy_image.shape"
   ]
  },
  {
   "cell_type": "code",
   "execution_count": 7,
   "id": "accepted-policy",
   "metadata": {},
   "outputs": [],
   "source": [
    "# we drop the alpha channel\n",
    "numpy_image = numpy_image[:,:,:3]"
   ]
  },
  {
   "cell_type": "code",
   "execution_count": 12,
   "id": "occupied-retirement",
   "metadata": {},
   "outputs": [],
   "source": [
    "import io\n",
    "import base64\n",
    "\n",
    "def numpy_img_to_encoded(numpy_image):\n",
    "    ''' existing open im to encoded '''\n",
    "    buffer = io.BytesIO()\n",
    "    im = Image.fromarray(numpy_image)\n",
    "    im.save(buffer, \"JPEG\")\n",
    "    data64 = base64.b64encode(buffer.getvalue())\n",
    "    image_encoded = \"data:image/jpeg;base64,{}\".format(\n",
    "        data64.decode(\"utf-8\"))\n",
    "    return image_encoded"
   ]
  },
  {
   "cell_type": "markdown",
   "id": "knowing-court",
   "metadata": {},
   "source": [
    "### First idea \n",
    "export tiles and various trees on them\n",
    "\n",
    "2021-2-4 this doesn't work well"
   ]
  },
  {
   "cell_type": "code",
   "execution_count": 29,
   "id": "essential-building",
   "metadata": {},
   "outputs": [
    {
     "data": {
      "text/plain": [
       "209"
      ]
     },
     "execution_count": 29,
     "metadata": {},
     "output_type": "execute_result"
    }
   ],
   "source": [
    "PATCH_SIZE = 400\n",
    "OVERLAP = 0.30\n",
    "\n",
    "windows = preprocess.compute_windows(numpy_image, patch_size=PATCH_SIZE,patch_overlap=OVERLAP)\n",
    "\n",
    "len(windows)"
   ]
  },
  {
   "cell_type": "code",
   "execution_count": 30,
   "id": "foreign-cartoon",
   "metadata": {},
   "outputs": [
    {
     "name": "stdout",
     "output_type": "stream",
     "text": [
      "found 1681 boxes on 209 windows\n"
     ]
    }
   ],
   "source": [
    "# lets do a bad double for loop bc I'm out of ideas for now.\n",
    "\n",
    "dataset = []\n",
    "\n",
    "\n",
    "total_box=0\n",
    "for index, window in enumerate(windows):\n",
    "    crop = numpy_image[windows[index].indices()]\n",
    "    xmin, ymin, w, h = windows[index].getRect()\n",
    "    xmax = xmin + w\n",
    "    ymax = ymin + h\n",
    "    \n",
    "    crop_encoded = numpy_img_to_encoded(crop)\n",
    "    \n",
    "    spans = []\n",
    "    dataset_entry = { \n",
    "        \"image\": crop_encoded,\n",
    "        \"width\": crop.shape[0],\n",
    "        \"height\": crop.shape[1],\n",
    "        \n",
    "        \"tile_crop_coordinates\": { \"xmin\": int(xmin), \"ymin\": int(ymin), \"xmax\": int(xmax), \"ymax\": int(ymax) },\n",
    "        \n",
    "        \"spans\": spans\n",
    "    }\n",
    "    dataset.append(dataset_entry)\n",
    "    \n",
    "    \n",
    "    for box in boxes[[\"xmin\", \"ymin\", \"xmax\", \"ymax\"]].values:\n",
    "        bxmin, bymin, bxmax, bymax = box\n",
    "        \n",
    "        if bxmin > xmin and bymin > ymin and bxmax < xmax and bymax < ymax:\n",
    "            # if any point is inside add the box\n",
    "            \n",
    "            total_box += 1\n",
    "            \n",
    "            x1 = int(bxmin - xmin)\n",
    "            x2 = int(bxmax - xmin)\n",
    "            y1 = int(bymin - ymin)\n",
    "            y2 = int(bymax - ymin)\n",
    "            w = x2 - x1\n",
    "            h = y2 - y1\n",
    "            \n",
    "            span = {\n",
    "               \"label\": \"tree\",\n",
    "                \n",
    "               # type \"rect\" and x, y width, height only works well with `image.manual` UI in prodi.gy\n",
    "               \"type\": \"rect\", \n",
    "               \"x\": x1,\n",
    "               \"y\": y1,\n",
    "               \"width\": w,\n",
    "               \"height\": h,\n",
    "                \n",
    "             \n",
    "               # original coordinates\n",
    "               \"tile_box_coordinates\": { \"xmin\": int(bxmin), \"ymin\": int(bymin), \"xmax\": int(bxmax), \"ymax\": int(bymax) },\n",
    "             \n",
    "               ## TODO also add lat, lon coordinates in epsg:3857\n",
    "            }\n",
    "        \n",
    "            \n",
    "            spans.append(span)\n",
    "            \n",
    "            \n",
    "print(\"found {} boxes on {} windows\".format(total_box, len(windows)))"
   ]
  },
  {
   "cell_type": "code",
   "execution_count": 31,
   "id": "anonymous-edgar",
   "metadata": {},
   "outputs": [],
   "source": [
    "with open(TILE_WITH_BOXES_DATASET, 'w') as file:\n",
    "    for entry in dataset:\n",
    "        file.write(json.dumps(entry))\n",
    "        file.write(\"\\n\")"
   ]
  },
  {
   "cell_type": "markdown",
   "id": "typical-generic",
   "metadata": {},
   "source": [
    "### Second idea\n",
    "export little patches around each tree"
   ]
  },
  {
   "cell_type": "code",
   "execution_count": 9,
   "id": "quiet-missile",
   "metadata": {},
   "outputs": [],
   "source": [
    "def get_box_crop(numpy_image, box, padding=50):\n",
    "    xmin, ymin, xmax, ymax = box\n",
    "        \n",
    "    # numpy_image is organized height, width, channels (or y, x, chan)\n",
    "    image_xmax = numpy_image.shape[1]\n",
    "    image_ymax = numpy_image.shape[0]\n",
    "    \n",
    "    crop_xmin = np.maximum(0, xmin - padding)\n",
    "    crop_ymin = np.maximum(0, ymin - padding)\n",
    "    crop_xmax = np.minimum(image_xmax, xmax + padding)\n",
    "    crop_ymax = np.minimum(image_ymax, ymax + padding)\n",
    "    \n",
    "    box_coords_in_crop = (xmin - crop_xmin, ymin - crop_ymin, xmax - crop_xmin, ymax - crop_ymin)\n",
    "    crop_coords = (crop_xmin, crop_ymin, crop_xmax, crop_ymax)\n",
    "    \n",
    "    return numpy_image[crop_ymin:crop_ymax,crop_xmin:crop_xmax,:], crop_coords, box_coords_in_crop"
   ]
  },
  {
   "cell_type": "code",
   "execution_count": 10,
   "id": "beautiful-logging",
   "metadata": {},
   "outputs": [
    {
     "ename": "TypeError",
     "evalue": "draw_box() missing 1 required positional argument: 'color'",
     "output_type": "error",
     "traceback": [
      "\u001b[1;31m---------------------------------------------------------------------------\u001b[0m",
      "\u001b[1;31mTypeError\u001b[0m                                 Traceback (most recent call last)",
      "\u001b[1;32m<ipython-input-10-a304f5ce6b53>\u001b[0m in \u001b[0;36m<module>\u001b[1;34m\u001b[0m\n\u001b[0;32m      6\u001b[0m \u001b[1;33m\u001b[0m\u001b[0m\n\u001b[0;32m      7\u001b[0m \u001b[0mcrop_with_box\u001b[0m \u001b[1;33m=\u001b[0m \u001b[0mcrop\u001b[0m\u001b[1;33m.\u001b[0m\u001b[0mcopy\u001b[0m\u001b[1;33m(\u001b[0m\u001b[1;33m)\u001b[0m\u001b[1;33m\u001b[0m\u001b[1;33m\u001b[0m\u001b[0m\n\u001b[1;32m----> 8\u001b[1;33m \u001b[0mfunctions\u001b[0m\u001b[1;33m.\u001b[0m\u001b[0mdraw_box\u001b[0m\u001b[1;33m(\u001b[0m\u001b[0mcrop_with_box\u001b[0m\u001b[1;33m,\u001b[0m \u001b[0mcrop_box_coords\u001b[0m\u001b[1;33m)\u001b[0m\u001b[1;33m\u001b[0m\u001b[1;33m\u001b[0m\u001b[0m\n\u001b[0m",
      "\u001b[1;31mTypeError\u001b[0m: draw_box() missing 1 required positional argument: 'color'"
     ]
    }
   ],
   "source": [
    "# index = 100\n",
    "index = 10\n",
    "\n",
    "box0 = boxes[[\"xmin\", \"ymin\", \"xmax\", \"ymax\"]].values[index]\n",
    "crop, crop_coords, crop_box_coords = get_box_crop(numpy_image, box0, padding=PADDING)\n",
    "\n",
    "crop_with_box = crop.copy()\n",
    "functions.draw_box(crop_with_box, crop_box_coords)"
   ]
  },
  {
   "cell_type": "raw",
   "id": "visible-louisiana",
   "metadata": {},
   "source": [
    "print(crop)"
   ]
  },
  {
   "cell_type": "code",
   "execution_count": null,
   "id": "herbal-tourist",
   "metadata": {},
   "outputs": [],
   "source": [
    "plt.imshow(crop)"
   ]
  },
  {
   "cell_type": "code",
   "execution_count": null,
   "id": "occupied-reservoir",
   "metadata": {},
   "outputs": [],
   "source": [
    "plt.imshow(crop_with_box)"
   ]
  },
  {
   "cell_type": "markdown",
   "id": "infrared-boulder",
   "metadata": {},
   "source": [
    "## Export all the boxes in a good format for Prodi.gy\n",
    "\n",
    "see: https://prodi.gy/docs/api-interfaces#image_manual\n",
    "\n",
    "```\n",
    "{\n",
    "  \"image\": \"https://images.unsplash.com/photo-1434993568367-36f24aa04d2f?w=400\",\n",
    "  \"width\": 400,\n",
    "  \"height\": 267,\n",
    "  \"spans\": [\n",
    "    {\n",
    "      \"label\":\"SKATEBOARD\",\n",
    "      \"color\": \"yellow\",\n",
    "      \"x\": 47.5,\n",
    "      \"y\": 171.4,\n",
    "      \"width\": 109.1,\n",
    "      \"height\": 67.4,\n",
    "      \"points\": [[47.5, 171.4], [47.5, 238.8], [156.6, 238.8], [156.6, 171.4]],\n",
    "      \"center\": [102.05, 205.1],\n",
    "      \"type\": \"rect\"\n",
    "    },\n",
    "    {\n",
    "      \"label\": \"PERSON\",\n",
    "      \"color\": \"cyan\",\n",
    "      \"points\": [[256, 39.5], [237, 78.5], [269, 116.5], [286, 67.5]],\n",
    "      \"type\": \"polygon\"\n",
    "    }\n",
    "  ]\n",
    "}```"
   ]
  },
  {
   "cell_type": "code",
   "execution_count": null,
   "id": "likely-hydrogen",
   "metadata": {},
   "outputs": [],
   "source": [
    "def get_four_corners(xmin, ymin, xmax, ymax):\n",
    "    ''' get four corners of the rectangle which is what `image` ui takes in prodigy'''\n",
    "    return [[xmin, ymin], [xmax, ymin], [xmax, ymax], [xmin, ymax]]"
   ]
  },
  {
   "cell_type": "code",
   "execution_count": null,
   "id": "falling-constraint",
   "metadata": {},
   "outputs": [],
   "source": [
    "dataset = []\n",
    "\n",
    "\n",
    "for index, box in enumerate(boxes[[\"xmin\", \"ymin\", \"xmax\", \"ymax\"]].values):\n",
    "    xmin, ymin, xmax, ymax = box\n",
    "\n",
    "    crop, crop_coords, crop_box_coords = get_box_crop(numpy_image, box, padding=PADDING)\n",
    "    \n",
    "    bxmin, bymin, bxmax, bymax = crop_box_coords\n",
    "    cxmin, cymin, cxmax, cymax = crop_coords\n",
    "    \n",
    "    crop_encoded = numpy_img_to_encoded(crop)\n",
    "    \n",
    "    dataset_entry = { \n",
    "        \"image\": crop_encoded,\n",
    "        \"width\": crop.shape[0],\n",
    "        \"height\": crop.shape[1],\n",
    "        \n",
    "        \"tile_crop_coordinates\": { \"xmin\": int(cxmin), \"ymin\": int(cymin), \"xmax\": int(cxmax), \"ymax\": int(cymax) },\n",
    "        \n",
    "        \"spans\": [\n",
    "            { \n",
    "#                \"label\": \"tree\",\n",
    "                \n",
    "               # type \"rect\" and x, y width, height only works well with `image.manual` UI in prodi.gy\n",
    "               \"type\": \"rect\", \n",
    "               \"x\": int(bxmin),\n",
    "               \"y\": int(bymin),\n",
    "               \"width\": int(bxmax - bxmin),\n",
    "               \"height\": int(bymax - bymin),\n",
    "                \n",
    "               # \"points\" work better for a `choice` UI in prodi.gy\n",
    "               \"points\": get_four_corners(int(bxmin), int(bymin), int(bxmax), int(bymax)),\n",
    "             \n",
    "               # original coordinates\n",
    "               \"tile_box_coordinates\": { \"xmin\": int(xmin), \"ymin\": int(ymin), \"xmax\": int(xmax), \"ymax\": int(ymax) },\n",
    "             \n",
    "               ## TODO also add lat, lon coordinates in epsg:3857\n",
    "             \n",
    "            }],\n",
    "    }\n",
    "    dataset.append(dataset_entry)"
   ]
  },
  {
   "cell_type": "code",
   "execution_count": null,
   "id": "cosmetic-joshua",
   "metadata": {},
   "outputs": [],
   "source": [
    "with open(PATCH_OUTPUT_DATASET, 'w') as file:\n",
    "    for entry in dataset:\n",
    "        file.write(json.dumps(entry))\n",
    "        file.write(\"\\n\")"
   ]
  }
 ],
 "metadata": {
  "kernelspec": {
   "display_name": "Python 3",
   "language": "python",
   "name": "python3"
  },
  "language_info": {
   "codemirror_mode": {
    "name": "ipython",
    "version": 3
   },
   "file_extension": ".py",
   "mimetype": "text/x-python",
   "name": "python",
   "nbconvert_exporter": "python",
   "pygments_lexer": "ipython3",
   "version": "3.7.9"
  }
 },
 "nbformat": 4,
 "nbformat_minor": 5
}
