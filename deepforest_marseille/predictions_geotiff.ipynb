{
 "cells": [
  {
   "cell_type": "code",
   "execution_count": 36,
   "metadata": {},
   "outputs": [],
   "source": [
    "# experiment with 0.2m per pixel IGN raster (good qual) between 400, 800 and 1200 pixel\n",
    "# doesn't perform very well\n",
    "PATCH_SIZE=1200\n",
    "OVERLAP=0.2\n",
    "\n",
    "GEOTIFF_PATH = \"../dataset_marseille/satellite_raster_sample_centre_IGN_0.2m-resolution.tif\"\n",
    "OUTPUT_PATH = \"../dataset_marseille/deepforest_prediction_IGN_0.2m_{}px_{}overlap.shp\".format(PATCH_SIZE, OVERLAP)"
   ]
  },
  {
   "cell_type": "code",
   "execution_count": null,
   "metadata": {},
   "outputs": [],
   "source": [
    "# experiment with 0.1m per pixel IGN raster (better qual) with 400 px\n",
    "PATCH_SIZE=400\n",
    "OVERLAP=0.15\n",
    "\n",
    "GEOTIFF_PATH = \"../dataset_marseille/satellite_raster_sample_centre_IGN_0.1m-resolution.tif\"\n",
    "OUTPUT_PATH = \"../dataset_marseille/deepforest_prediction_IGN_0.1m_{}px_{}overlap.shp\".format(PATCH_SIZE, OVERLAP)"
   ]
  },
  {
   "cell_type": "code",
   "execution_count": 40,
   "metadata": {},
   "outputs": [],
   "source": [
    "# experiment with 0.1m per pixel Mapbox raster (not great qual) with 400 px\n",
    "PATCH_SIZE=400\n",
    "OVERLAP=0.15\n",
    "\n",
    "GEOTIFF_PATH = \"../dataset_marseille/satellite_raster_sample_centre_mapbox_0.1m-resolution.tif\"\n",
    "OUTPUT_PATH = \"../dataset_marseille/deepforest_prediction_mapbox_0.1m_{}px_{}overlap.shp\".format(PATCH_SIZE, OVERLAP)"
   ]
  },
  {
   "cell_type": "code",
   "execution_count": 1,
   "metadata": {},
   "outputs": [
    {
     "name": "stderr",
     "output_type": "stream",
     "text": [
      "Using TensorFlow backend.\n"
     ]
    }
   ],
   "source": [
    "from deepforest import deepforest\n",
    "from deepforest import get_data\n",
    "\n",
    "#Geospatial packages\n",
    "\n",
    "import shapely\n",
    "import geopandas\n",
    "import rasterio"
   ]
  },
  {
   "cell_type": "code",
   "execution_count": 3,
   "metadata": {},
   "outputs": [
    {
     "name": "stdout",
     "output_type": "stream",
     "text": [
      "Reading config file: C:\\Users\\matth\\scoop\\apps\\miniconda3\\current\\envs\\deepforest\\lib\\site-packages\\deepforest\\data\\deepforest_config.yml\n",
      "A blank deepforest object created. To perform prediction, either train or load an existing model.\n",
      "Model from DeepForest release https://github.com/weecology/DeepForest/releases/tag/v0.3.0 was already downloaded. Loading model from file.\n",
      "Loading pre-built model: https://github.com/weecology/DeepForest/releases/tag/v0.3.0\n",
      "WARNING:tensorflow:From C:\\Users\\matth\\scoop\\apps\\miniconda3\\current\\envs\\deepforest\\lib\\site-packages\\keras\\backend\\tensorflow_backend.py:4070: The name tf.nn.max_pool is deprecated. Please use tf.nn.max_pool2d instead.\n",
      "\n",
      "tracking <tf.Variable 'Variable:0' shape=(9, 4) dtype=float32> anchors\n",
      "tracking <tf.Variable 'Variable_1:0' shape=(9, 4) dtype=float32> anchors\n",
      "tracking <tf.Variable 'Variable_2:0' shape=(9, 4) dtype=float32> anchors\n",
      "tracking <tf.Variable 'Variable_3:0' shape=(9, 4) dtype=float32> anchors\n",
      "tracking <tf.Variable 'Variable_4:0' shape=(9, 4) dtype=float32> anchors\n",
      "WARNING:tensorflow:From C:\\Users\\matth\\scoop\\apps\\miniconda3\\current\\envs\\deepforest\\lib\\site-packages\\deepforest\\keras_retinanet\\backend\\tensorflow_backend.py:104: add_dispatch_support.<locals>.wrapper (from tensorflow.python.ops.array_ops) is deprecated and will be removed in a future version.\n",
      "Instructions for updating:\n",
      "Use tf.where in 2.0, which has the same broadcast rule as np.where\n"
     ]
    }
   ],
   "source": [
    "test_model = deepforest.deepforest()\n",
    "test_model.use_release()\n"
   ]
  },
  {
   "cell_type": "code",
   "execution_count": 42,
   "metadata": {},
   "outputs": [
    {
     "name": "stderr",
     "output_type": "stream",
     "text": [
      "100%|████████████████████████████████████████████████████████████████████████████| 6099/6099 [3:02:07<00:00,  1.79s/it]\n"
     ]
    },
    {
     "name": "stdout",
     "output_type": "stream",
     "text": [
      "2487 predictions in overlapping windows, applying non-max supression\n",
      "2192 predictions kept after non-max suppression\n"
     ]
    }
   ],
   "source": [
    "# remove exception from PIL Image for large files\n",
    "# by setting the MAX to None\n",
    "from PIL import Image\n",
    "Image.MAX_IMAGE_PIXELS = None\n",
    "\n",
    "\n",
    "raster_path = GEOTIFF_PATH\n",
    "\n",
    "boxes = test_model.predict_tile(\n",
    "    raster_path,\n",
    "    # return_plot draws the image\n",
    "    return_plot = False,\n",
    "    patch_size=PATCH_SIZE,\n",
    "    patch_overlap=OVERLAP)"
   ]
  },
  {
   "cell_type": "code",
   "execution_count": 31,
   "metadata": {},
   "outputs": [],
   "source": [
    "# Write shapefile with prediction\n",
    "\n",
    "with rasterio.open(raster_path) as dataset:\n",
    "    bounds = dataset.bounds\n",
    "    pixelSizeX, pixelSizeY  = dataset.res\n",
    "\n",
    "#subtract origin. Recall that numpy origin is top left! Not bottom left.\n",
    "boxes[\"xmin\"] = (boxes[\"xmin\"] *pixelSizeX) + bounds.left\n",
    "boxes[\"xmax\"] = (boxes[\"xmax\"] * pixelSizeX) + bounds.left\n",
    "boxes[\"ymin\"] = bounds.top - (boxes[\"ymin\"] * pixelSizeY)\n",
    "boxes[\"ymax\"] = bounds.top - (boxes[\"ymax\"] * pixelSizeY)\n",
    "\n",
    "# combine column to a shapely Box() object, save shapefile\n",
    "boxes['geometry'] = boxes.apply(lambda x: shapely.geometry.box(x.xmin,x.ymin,x.xmax,x.ymax), axis=1)\n",
    "boxes = geopandas.GeoDataFrame(boxes, geometry='geometry')\n",
    "\n",
    "#set same epsg as source data\n",
    "boxes.crs = {'init' :'epsg:3857'}\n",
    "\n",
    "# from https://epsg.io/3857\n",
    "prj = '''PROJCS[\"WGS 84 / Pseudo-Mercator\",\n",
    "    GEOGCS[\"WGS 84\",\n",
    "        DATUM[\"WGS_1984\",\n",
    "            SPHEROID[\"WGS 84\",6378137,298.257223563,\n",
    "                AUTHORITY[\"EPSG\",\"7030\"]],\n",
    "            AUTHORITY[\"EPSG\",\"6326\"]],\n",
    "        PRIMEM[\"Greenwich\",0,\n",
    "            AUTHORITY[\"EPSG\",\"8901\"]],\n",
    "        UNIT[\"degree\",0.0174532925199433,\n",
    "            AUTHORITY[\"EPSG\",\"9122\"]],\n",
    "        AUTHORITY[\"EPSG\",\"4326\"]],\n",
    "    PROJECTION[\"Mercator_1SP\"],\n",
    "    PARAMETER[\"central_meridian\",0],\n",
    "    PARAMETER[\"scale_factor\",1],\n",
    "    PARAMETER[\"false_easting\",0],\n",
    "    PARAMETER[\"false_northing\",0],\n",
    "    UNIT[\"metre\",1,\n",
    "        AUTHORITY[\"EPSG\",\"9001\"]],\n",
    "    AXIS[\"X\",EAST],\n",
    "    AXIS[\"Y\",NORTH],\n",
    "    EXTENSION[\"PROJ4\",\"+proj=merc +a=6378137 +b=6378137 +lat_ts=0.0 +lon_0=0.0 +x_0=0.0 +y_0=0 +k=1.0 +units=m +nadgrids=@null +wktext  +no_defs\"],\n",
    "    AUTHORITY[\"EPSG\",\"3857\"]]'''\n",
    "\n",
    "boxes.to_file(OUTPUT_PATH, driver='ESRI Shapefile',crs=prj)\n"
   ]
  },
  {
   "cell_type": "code",
   "execution_count": null,
   "metadata": {},
   "outputs": [],
   "source": []
  }
 ],
 "metadata": {
  "kernelspec": {
   "display_name": "Python 3",
   "language": "python",
   "name": "python3"
  },
  "language_info": {
   "codemirror_mode": {
    "name": "ipython",
    "version": 3
   },
   "file_extension": ".py",
   "mimetype": "text/x-python",
   "name": "python",
   "nbconvert_exporter": "python",
   "pygments_lexer": "ipython3",
   "version": "3.7.9"
  }
 },
 "nbformat": 4,
 "nbformat_minor": 4
}
